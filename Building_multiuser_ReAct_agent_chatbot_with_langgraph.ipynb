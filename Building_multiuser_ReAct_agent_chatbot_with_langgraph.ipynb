{
  "nbformat": 4,
  "nbformat_minor": 0,
  "metadata": {
    "colab": {
      "provenance": [],
      "gpuType": "T4",
      "authorship_tag": "ABX9TyMHuNcvRti0FnNIw2ImXHwU",
      "include_colab_link": true
    },
    "kernelspec": {
      "name": "python3",
      "display_name": "Python 3"
    },
    "language_info": {
      "name": "python"
    },
    "accelerator": "GPU"
  },
  "cells": [
    {
      "cell_type": "markdown",
      "metadata": {
        "id": "view-in-github",
        "colab_type": "text"
      },
      "source": [
        "<a href=\"https://colab.research.google.com/github/shubham-arote/Multiuser-ReAct-agent/blob/main/Building_multiuser_ReAct_agent_chatbot_with_langgraph.ipynb\" target=\"_parent\"><img src=\"https://colab.research.google.com/assets/colab-badge.svg\" alt=\"Open In Colab\"/></a>"
      ]
    },
    {
      "cell_type": "markdown",
      "source": [
        "Building a multi-user ReAct AI  Agent Chatbot with  LangGraph\n"
      ],
      "metadata": {
        "id": "tc433h5BjHQ2"
      }
    },
    {
      "cell_type": "code",
      "execution_count": null,
      "metadata": {
        "id": "egoUfrXLRjJX"
      },
      "outputs": [],
      "source": [
        "!pip install langchain\n",
        "!pip install langchain-community\n",
        "!pip install langgraph"
      ]
    },
    {
      "cell_type": "code",
      "source": [
        "!pip install langchain-google-genai"
      ],
      "metadata": {
        "id": "5Qd9QTndskyY"
      },
      "execution_count": null,
      "outputs": []
    },
    {
      "cell_type": "code",
      "source": [
        "from google.colab import userdata\n",
        "import os\n",
        "os.environ['GROQ_API_KEY'] = userdata.get('GROQ_API_KEY')\n",
        "os.environ['WEATHER_API_KEY'] = userdata.get('WEATHER_API_KEY')\n",
        "os.environ['GOOGLE_API_KEY']=userdata.get('GEMINI_API_KEY')\n",
        "os.environ['TAVILY_API_KEY']=userdata.get('TAVILY_API_KEY')"
      ],
      "metadata": {
        "id": "K5dZBbZ_qDbY"
      },
      "execution_count": null,
      "outputs": []
    },
    {
      "cell_type": "code",
      "source": [
        "GOOGLE_API_KEY = os.environ['GOOGLE_API_KEY']"
      ],
      "metadata": {
        "id": "gBKYEtN2wsz8"
      },
      "execution_count": null,
      "outputs": []
    },
    {
      "cell_type": "code",
      "source": [
        "WEATHER_API_KEY = os.environ['WEATHER_API_KEY']"
      ],
      "metadata": {
        "id": "mJXGwMbFr-y7"
      },
      "execution_count": null,
      "outputs": []
    },
    {
      "cell_type": "code",
      "source": [
        "from langchain_community.tools.tavily_search import TavilySearchResults\n",
        "from langchain_core.tools import tool\n",
        "import json\n",
        "import requests\n",
        "\n",
        "tv_search = TavilySearchResults(max_results=3, search_depth='advance', max_tokens=10000)\n",
        "\n",
        "@tool\n",
        "def search_web(query:str) -> list:\n",
        "    \"\"\"Search the web for the given query\"\"\"\n",
        "    search_tool = TavilySearchResults(max_results=2)\n",
        "    results = search_tool.invoke(query)\n",
        "    return results\n",
        "\n",
        "@tool\n",
        "def get_weather(query: str) -> list:\n",
        "    \"\"\"Search weather api to get current results\"\"\"\n",
        "    base_url=\"http://api.weatherapi.com/v1/current.json\"\n",
        "    complete_url= f\"{base_url}?key={WEATHER_API_KEY}&q={query}\"\n",
        "    response = requests.get(complete_url)\n",
        "    data = response.json()\n",
        "    if data.get(\"location\"):\n",
        "        return data\n",
        "    else:\n",
        "        return \"Weather Data Not found\"\n",
        "tools = [search_web, get_weather]"
      ],
      "metadata": {
        "id": "W-0_yHuVqyed"
      },
      "execution_count": null,
      "outputs": []
    },
    {
      "cell_type": "code",
      "source": [
        "!pip install langchain_groq"
      ],
      "metadata": {
        "id": "u08V9cb7amc4"
      },
      "execution_count": null,
      "outputs": []
    },
    {
      "cell_type": "code",
      "source": [
        "from langchain_groq import ChatGroq\n",
        "chat_gpt = ChatGroq(\n",
        "    model = \"llama3-8b-8192\",\n",
        "    temperature = 0\n",
        ")"
      ],
      "metadata": {
        "id": "1frkmA3Laj0D"
      },
      "execution_count": null,
      "outputs": []
    },
    {
      "cell_type": "code",
      "source": [
        "from langchain_google_genai import ChatGoogleGenerativeAI\n",
        "\n",
        "llm = ChatGoogleGenerativeAI(\n",
        "    model=\"gemini-1.5-pro\",\n",
        "    temperature=0,\n",
        "    max_tokens=None,\n",
        "    timeout=None,\n",
        "    max_retries=2,\n",
        "    # other params...\n",
        ")"
      ],
      "metadata": {
        "id": "KUXMlQmur8cM"
      },
      "execution_count": null,
      "outputs": []
    },
    {
      "cell_type": "markdown",
      "source": [
        "Build and test ai agent with langgraph"
      ],
      "metadata": {
        "id": "OoRQ39KplD24"
      }
    },
    {
      "cell_type": "code",
      "source": [
        "from langchain.prompts import ChatPromptTemplate, MessagesPlaceholder\n",
        "SYS_PROMPT = \"\"\"Act as a helpful assistant.\n",
        "                Use the tools at your disposal to perform tasks as needed\n",
        "                 -get_weather: whenever user asks get the weather of a place\n",
        "                 -search_web : whenever user asks for information on current events or\n",
        "                 if you don't know the answer \"\"\"\n",
        "\n",
        "prompt_template = ChatPromptTemplate.from_messages([\n",
        "    (\"system\", SYS_PROMPT),\n",
        "    MessagesPlaceholder(variable_name=\"messages\"),\n",
        "])\n",
        "\n",
        "def add_sys_prompt(messages):\n",
        "    return prompt_template.invoke({\"messages\":messages}).to_messages()"
      ],
      "metadata": {
        "id": "2iJvJ_y4s9Zy"
      },
      "execution_count": null,
      "outputs": []
    },
    {
      "cell_type": "code",
      "source": [
        "from langgraph.prebuilt import create_react_agent\n",
        "\n",
        "agent = create_react_agent(llm, tools=tools, messages_modifier=add_sys_prompt)"
      ],
      "metadata": {
        "id": "45Q_4NH9t78L"
      },
      "execution_count": null,
      "outputs": []
    },
    {
      "cell_type": "code",
      "source": [
        "query = \"\"\"tell me who won the champions league in 2024\n",
        "        show some detailed information about the match also\"\"\"\n",
        "\n",
        "response = agent.invoke({\"messages\":['user', query]})\n",
        "from IPython.display import Markdown, display\n",
        "display(Markdown(response['messages'][-1].content))"
      ],
      "metadata": {
        "colab": {
          "base_uri": "https://localhost:8080/",
          "height": 87
        },
        "id": "0Ybl5wHUmuHd",
        "outputId": "76033441-de38-4b58-b803-fe0955306684"
      },
      "execution_count": null,
      "outputs": [
        {
          "output_type": "display_data",
          "data": {
            "text/plain": [
              "<IPython.core.display.Markdown object>"
            ],
            "text/markdown": "Real Madrid won the Champions League in 2024 after defeating Borussia Dortmund in the final. \n\nGoals from Dani Carvajal and Vinicius Junior sealed the victory for Real Madrid, who were unbeaten in their 13 Champions League matches this season. This was the first time they won a European Cup/Champions League final without losing a match during the entire campaign. \n"
          },
          "metadata": {}
        }
      ]
    },
    {
      "cell_type": "code",
      "source": [
        "!rm memory.db*"
      ],
      "metadata": {
        "id": "8NfZpS6Yran5"
      },
      "execution_count": null,
      "outputs": []
    },
    {
      "cell_type": "code",
      "source": [
        "\n",
        "from langgraph.checkpoint.sqlite import SqliteSaver\n",
        "memory = SqliteSaver.from_conn_string(\"memory.db\")\n",
        "agentic_chatbot =create_react_agent(chat_gpt, tools=tools,\n",
        "                                    checkpointer=memory,\n",
        "                                    messages_modifier=add_sys_prompt)\n",
        "\n",
        "\n",
        "#function to call  the agent show result per ueser session (called a thread ID)\n",
        "from IPython.display import display, Markdown\n",
        "def chat_with_agent(prompt:str, session_id:str):\n",
        "    # Ensure the message is formatted correctly with a 'user' role\n",
        "    response = agentic_chatbot.invoke({\"messages\":['user',prompt]},\n",
        "                                      {'configurable':{'thread_id': session_id}})\n",
        "    display(Markdown(response['messages'][-1].content))\n"
      ],
      "metadata": {
        "collapsed": true,
        "id": "IFbfDcE-dsz6"
      },
      "execution_count": null,
      "outputs": []
    },
    {
      "cell_type": "code",
      "source": [
        "session_id ='bond001'\n",
        "prompt =\"weather in mumbai?\"\n",
        "chat_with_agent(prompt, session_id)"
      ],
      "metadata": {
        "id": "Rw_wtZISkue3",
        "colab": {
          "base_uri": "https://localhost:8080/",
          "height": 64
        },
        "outputId": "4862fc54-a35e-45a7-ee06-725fe89e89a9"
      },
      "execution_count": null,
      "outputs": [
        {
          "output_type": "display_data",
          "data": {
            "text/plain": [
              "<IPython.core.display.Markdown object>"
            ],
            "text/markdown": "The current weather in Mumbai is light rain shower with a temperature of 25.9°C (78.6°F). The wind is blowing at a speed of 31.3 km/h (19.5 mph) from the west. The humidity is 87% and the cloud cover is 100%. It feels like 29.0°C (84.1°F) and the windchill is 25.9°C (78.6°F)."
          },
          "metadata": {}
        }
      ]
    },
    {
      "cell_type": "code",
      "source": [
        "session_id ='bond001'\n",
        "prompt =\"what about dubai\"\n",
        "chat_with_agent(prompt, session_id)"
      ],
      "metadata": {
        "colab": {
          "base_uri": "https://localhost:8080/",
          "height": 64
        },
        "id": "vJp02t4chVcS",
        "outputId": "cdeef19d-8e83-4603-fea6-6ef2d84dfdb6"
      },
      "execution_count": null,
      "outputs": [
        {
          "output_type": "display_data",
          "data": {
            "text/plain": [
              "<IPython.core.display.Markdown object>"
            ],
            "text/markdown": "The current weather in Dubai is sunny with a temperature of 36.2°C (97.2°F). The wind is blowing at a speed of 17.3 km/h (10.7 mph) from the west. The humidity is 56% and the cloud cover is 0%. It feels like 46.8°C (116.3°F) and the windchill is 36.2°C (97.2°F)."
          },
          "metadata": {}
        }
      ]
    },
    {
      "cell_type": "code",
      "source": [
        "session_id ='bond001'\n",
        "prompt =\"which one is hotter?\"\n",
        "chat_with_agent(prompt, session_id)"
      ],
      "metadata": {
        "colab": {
          "base_uri": "https://localhost:8080/",
          "height": 46
        },
        "id": "Ty9MYGKmhdns",
        "outputId": "98a06e49-de55-462e-fa26-5ab1066409e3"
      },
      "execution_count": null,
      "outputs": [
        {
          "output_type": "display_data",
          "data": {
            "text/plain": [
              "<IPython.core.display.Markdown object>"
            ],
            "text/markdown": "Based on the current weather conditions, Dubai is hotter than Mumbai. The temperature in Dubai is 36.2°C (97.2°F), while in Mumbai it is 25.9°C (78.6°F)."
          },
          "metadata": {}
        }
      ]
    },
    {
      "cell_type": "code",
      "source": [
        "from IPython.display import Image , display\n",
        "display(Image(agent.get_graph().draw_mermaid_png()))"
      ],
      "metadata": {
        "id": "9ZmqlxLOufK1"
      },
      "execution_count": null,
      "outputs": []
    },
    {
      "cell_type": "code",
      "source": [
        "query = \"\"\"weather in new york give detail statistics\n",
        "        \"\"\"\n",
        "response = agent.invoke({\"messages\":['user', query]})\n",
        "from IPython.display import Markdown, display\n",
        "display(Markdown(response['messages'][-1].content))"
      ],
      "metadata": {
        "colab": {
          "base_uri": "https://localhost:8080/",
          "height": 64
        },
        "id": "RvlP-kkUvYXw",
        "outputId": "3d0d6b24-0b8b-45d4-cf9a-36033e31ac5c"
      },
      "execution_count": null,
      "outputs": [
        {
          "output_type": "display_data",
          "data": {
            "text/plain": [
              "<IPython.core.display.Markdown object>"
            ],
            "text/markdown": "The weather in New York City is partly cloudy with a temperature of 23.5 degrees Celsius (74.3 degrees Fahrenheit). The humidity is 86% and the wind is blowing from the west-southwest at 9.7 kilometers per hour (6 miles per hour). The UV index is 6. \n"
          },
          "metadata": {}
        }
      ]
    }
  ]
}